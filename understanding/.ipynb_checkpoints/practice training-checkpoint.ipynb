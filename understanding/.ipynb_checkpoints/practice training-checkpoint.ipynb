{
 "cells": [
  {
   "cell_type": "markdown",
   "metadata": {},
   "source": [
    "# Practice Training\n",
    "Training quiz for skill get"
   ]
  },
  {
   "cell_type": "code",
   "execution_count": 46,
   "metadata": {
    "collapsed": false
   },
   "outputs": [],
   "source": [
    "from collections import Counter\n",
    "import pickle\n",
    "right_point_counter = Counter()\n",
    "wrong_point_counter = Counter()\n",
    "total_point_counter = Counter()\n",
    "\n",
    "questions = []\n",
    "answers = []\n",
    "\n",
    "# inital quiz from txt\n",
    "question = \"\"\n",
    "answer = \"\""
   ]
  },
  {
   "cell_type": "code",
   "execution_count": 36,
   "metadata": {
    "collapsed": true
   },
   "outputs": [],
   "source": [
    "# common use functions\n",
    "def update_library():\n",
    "    questions.append(question)\n",
    "    answers.append(answer)"
   ]
  },
  {
   "cell_type": "code",
   "execution_count": 47,
   "metadata": {
    "collapsed": true
   },
   "outputs": [],
   "source": [
    "# first question\n",
    "question = \"Take the value(a) 1,000,000,000 and then add to it the value 10 to the minus 6 1,000,000 times, then subtract 1,000,000,000 again. What do you get?\"\n",
    "answer=\"\"\"\n",
    "a = 1000000000\n",
    "for i in range(1000000):\n",
    "    a = a + 1e-6\n",
    "print(a - 1000000000)\n",
    "\"\"\"\n",
    "update_library()"
   ]
  },
  {
   "cell_type": "code",
   "execution_count": 38,
   "metadata": {
    "collapsed": false
   },
   "outputs": [],
   "source": [
    "# load answers from pickle\n",
    "def load_answers():\n",
    "    with open('answers.pickle', 'rb') as f:     \n",
    "        # The protocol version used is detected automatically, so we do not     \n",
    "        # have to specify it.     \n",
    "        answers = pickle.load(f)\n",
    "        f.close()\n",
    "        return answers\n"
   ]
  },
  {
   "cell_type": "code",
   "execution_count": 39,
   "metadata": {
    "collapsed": false
   },
   "outputs": [],
   "source": [
    "# Update quiz states \n",
    "# update_quiz_state\n",
    "# answer - string, answer of quiz\n",
    "# check_flag - boolean, right or wrong by user\n",
    "def update_quiz_state(answer, check_flag=False):\n",
    "    # initialize answer word\n",
    "    for line in answer.split(\"\\n\"):\n",
    "        for word in line.split(\" \"):\n",
    "            # extend split '('\n",
    "            answer_points.add(word)\n",
    "\n",
    "    for point in answer_points:\n",
    "        if check_flag:\n",
    "            right_point_counter[point] += 1\n",
    "        else:\n",
    "            wrong_point_counter[point] += 1\n"
   ]
  },
  {
   "cell_type": "code",
   "execution_count": 48,
   "metadata": {
    "collapsed": false
   },
   "outputs": [],
   "source": [
    "# second question\n",
    "question = \"\"\"\n",
    "    How to use List Comphrehension to calculate square values\n",
    "    from 1 to 10?\n",
    "    use x for each value\n",
    "    \"\"\"\n",
    "answer = \"[x*x for x in range(10)]\"\n",
    "update_library()"
   ]
  },
  {
   "cell_type": "code",
   "execution_count": 49,
   "metadata": {
    "collapsed": false
   },
   "outputs": [
    {
     "data": {
      "text/plain": [
       "('\\n    How to use List Comphrehension to calculate square values\\n    from 1 to 10?\\n    use x for each value\\n    ',\n",
       " '[x*x for x in range(10)]')"
      ]
     },
     "execution_count": 49,
     "metadata": {},
     "output_type": "execute_result"
    }
   ],
   "source": [
    "questions[-1], answers[-1]"
   ]
  },
  {
   "cell_type": "code",
   "execution_count": 65,
   "metadata": {
    "collapsed": false
   },
   "outputs": [
    {
     "ename": "AttributeError",
     "evalue": "'list' object has no attribute 'split'",
     "output_type": "error",
     "traceback": [
      "\u001b[0;31m---------------------------------------------------------------------------\u001b[0m",
      "\u001b[0;31mAttributeError\u001b[0m                            Traceback (most recent call last)",
      "\u001b[0;32m<ipython-input-65-0ca3924939c6>\u001b[0m in \u001b[0;36m<module>\u001b[0;34m()\u001b[0m\n\u001b[1;32m      1\u001b[0m \u001b[0mpre_words\u001b[0m \u001b[0;34m=\u001b[0m \u001b[0;34m[\u001b[0m\u001b[0mline\u001b[0m\u001b[0;34m.\u001b[0m\u001b[0msplit\u001b[0m\u001b[0;34m(\u001b[0m\u001b[0;34m\" \"\u001b[0m\u001b[0;34m)\u001b[0m \u001b[0;32mfor\u001b[0m \u001b[0mline\u001b[0m \u001b[0;32min\u001b[0m \u001b[0manswers\u001b[0m\u001b[0;34m[\u001b[0m\u001b[0;36m0\u001b[0m\u001b[0;34m]\u001b[0m\u001b[0;34m.\u001b[0m\u001b[0msplit\u001b[0m\u001b[0;34m(\u001b[0m\u001b[0;34m'\\n'\u001b[0m\u001b[0;34m)\u001b[0m\u001b[0;34m]\u001b[0m\u001b[0;34m\u001b[0m\u001b[0m\n\u001b[0;32m----> 2\u001b[0;31m \u001b[0mfinal_words\u001b[0m \u001b[0;34m=\u001b[0m \u001b[0;34m[\u001b[0m\u001b[0msplit_char\u001b[0m\u001b[0;34m(\u001b[0m\u001b[0mword\u001b[0m\u001b[0;34m,\u001b[0m \u001b[0;34m'('\u001b[0m\u001b[0;34m)\u001b[0m \u001b[0;32mfor\u001b[0m \u001b[0mword\u001b[0m \u001b[0;32min\u001b[0m \u001b[0mpre_words\u001b[0m\u001b[0;34m]\u001b[0m\u001b[0;34m\u001b[0m\u001b[0m\n\u001b[0m\u001b[1;32m      3\u001b[0m \u001b[0mfinal_words\u001b[0m\u001b[0;34m\u001b[0m\u001b[0m\n",
      "\u001b[0;32m<ipython-input-65-0ca3924939c6>\u001b[0m in \u001b[0;36m<listcomp>\u001b[0;34m(.0)\u001b[0m\n\u001b[1;32m      1\u001b[0m \u001b[0mpre_words\u001b[0m \u001b[0;34m=\u001b[0m \u001b[0;34m[\u001b[0m\u001b[0mline\u001b[0m\u001b[0;34m.\u001b[0m\u001b[0msplit\u001b[0m\u001b[0;34m(\u001b[0m\u001b[0;34m\" \"\u001b[0m\u001b[0;34m)\u001b[0m \u001b[0;32mfor\u001b[0m \u001b[0mline\u001b[0m \u001b[0;32min\u001b[0m \u001b[0manswers\u001b[0m\u001b[0;34m[\u001b[0m\u001b[0;36m0\u001b[0m\u001b[0;34m]\u001b[0m\u001b[0;34m.\u001b[0m\u001b[0msplit\u001b[0m\u001b[0;34m(\u001b[0m\u001b[0;34m'\\n'\u001b[0m\u001b[0;34m)\u001b[0m\u001b[0;34m]\u001b[0m\u001b[0;34m\u001b[0m\u001b[0m\n\u001b[0;32m----> 2\u001b[0;31m \u001b[0mfinal_words\u001b[0m \u001b[0;34m=\u001b[0m \u001b[0;34m[\u001b[0m\u001b[0msplit_char\u001b[0m\u001b[0;34m(\u001b[0m\u001b[0mword\u001b[0m\u001b[0;34m,\u001b[0m \u001b[0;34m'('\u001b[0m\u001b[0;34m)\u001b[0m \u001b[0;32mfor\u001b[0m \u001b[0mword\u001b[0m \u001b[0;32min\u001b[0m \u001b[0mpre_words\u001b[0m\u001b[0;34m]\u001b[0m\u001b[0;34m\u001b[0m\u001b[0m\n\u001b[0m\u001b[1;32m      3\u001b[0m \u001b[0mfinal_words\u001b[0m\u001b[0;34m\u001b[0m\u001b[0m\n",
      "\u001b[0;32m<ipython-input-61-9c3c2f18a2cb>\u001b[0m in \u001b[0;36msplit_char\u001b[0;34m(word, spliter)\u001b[0m\n\u001b[1;32m      2\u001b[0m \u001b[0;34m\u001b[0m\u001b[0m\n\u001b[1;32m      3\u001b[0m \u001b[0;32mdef\u001b[0m \u001b[0msplit_char\u001b[0m\u001b[0;34m(\u001b[0m\u001b[0mword\u001b[0m\u001b[0;34m,\u001b[0m \u001b[0mspliter\u001b[0m\u001b[0;34m)\u001b[0m\u001b[0;34m:\u001b[0m\u001b[0;34m\u001b[0m\u001b[0m\n\u001b[0;32m----> 4\u001b[0;31m     \u001b[0mbefore\u001b[0m\u001b[0;34m,\u001b[0m \u001b[0mafter\u001b[0m \u001b[0;34m=\u001b[0m \u001b[0mword\u001b[0m\u001b[0;34m.\u001b[0m\u001b[0msplit\u001b[0m\u001b[0;34m(\u001b[0m\u001b[0mspliter\u001b[0m\u001b[0;34m)\u001b[0m\u001b[0;34m\u001b[0m\u001b[0m\n\u001b[0m\u001b[1;32m      5\u001b[0m     \u001b[0;32mreturn\u001b[0m \u001b[0;34m[\u001b[0m\u001b[0mbefore\u001b[0m\u001b[0;34m,\u001b[0m \u001b[0mspliter\u001b[0m\u001b[0;34m,\u001b[0m \u001b[0mafter\u001b[0m\u001b[0;34m]\u001b[0m\u001b[0;34m\u001b[0m\u001b[0m\n\u001b[1;32m      6\u001b[0m \u001b[0;34m\u001b[0m\u001b[0m\n",
      "\u001b[0;31mAttributeError\u001b[0m: 'list' object has no attribute 'split'"
     ]
    }
   ],
   "source": [
    "pre_words = [line.split(\" \") for line in answers[0].split('\\n')]\n",
    "final_words = [split_char(word, '(') for word in pre_words]\n",
    "final_words"
   ]
  },
  {
   "cell_type": "code",
   "execution_count": 68,
   "metadata": {
    "collapsed": false
   },
   "outputs": [
    {
     "data": {
      "text/plain": [
       "['a',\n",
       " '=',\n",
       " '1000000000',\n",
       " 'for',\n",
       " 'i',\n",
       " 'in',\n",
       " 'range',\n",
       " '(',\n",
       " '1000000):',\n",
       " 'a',\n",
       " '=',\n",
       " 'a',\n",
       " '+',\n",
       " '1e-6',\n",
       " 'print',\n",
       " '(',\n",
       " 'a',\n",
       " '-',\n",
       " '1000000000',\n",
       " ')',\n",
       " '']"
      ]
     },
     "execution_count": 68,
     "metadata": {},
     "output_type": "execute_result"
    }
   ],
   "source": [
    "temps = []\n",
    "\n",
    "def split_char(word, spliter):\n",
    "    before, after = word.split(spliter)\n",
    "    return [before, spliter, after]\n",
    "    \n",
    "for line in answers[0].split('\\n'):\n",
    "    for word in line.split():\n",
    "        if '(' in word:\n",
    "            sub_words = split_char(word, '(')\n",
    "            temps.extend(sub_words)\n",
    "        elif ')' in word:\n",
    "            sub_words = split_char(word, ')')\n",
    "            temps.extend(sub_words)\n",
    "        else:\n",
    "            temps.append(word)\n",
    "temps"
   ]
  },
  {
   "cell_type": "code",
   "execution_count": 23,
   "metadata": {
    "collapsed": false
   },
   "outputs": [
    {
     "data": {
      "text/plain": [
       "True"
      ]
     },
     "execution_count": 23,
     "metadata": {},
     "output_type": "execute_result"
    }
   ],
   "source": [
    "# Get user input, check and give precent of right\n",
    "user_answer = \"\"\"\n",
    "a = 1000000000\n",
    "for i in range(1000000):\n",
    "    a = a + 1e-6\n",
    "print(a - 1000000000)\n",
    "\"\"\"\n",
    "\n",
    "check_flag = (user_answer == answers[0])\n",
    "check_flag"
   ]
  },
  {
   "cell_type": "code",
   "execution_count": 24,
   "metadata": {
    "collapsed": false
   },
   "outputs": [
    {
     "data": {
      "text/plain": [
       "{'',\n",
       " '+',\n",
       " '-',\n",
       " '1000000000',\n",
       " '1000000000)',\n",
       " '1e-6',\n",
       " '=',\n",
       " 'a',\n",
       " 'for',\n",
       " 'i',\n",
       " 'in',\n",
       " 'print(a',\n",
       " 'range(1000000):'}"
      ]
     },
     "execution_count": 24,
     "metadata": {},
     "output_type": "execute_result"
    }
   ],
   "source": [
    "# Create answer points\n",
    "answer_points = set()\n",
    "update_quiz_state(answer, check_flag)\n",
    "answer_points"
   ]
  },
  {
   "cell_type": "code",
   "execution_count": 101,
   "metadata": {
    "collapsed": false
   },
   "outputs": [
    {
     "data": {
      "text/plain": [
       "[('', 1.0),\n",
       " ('1000000000', 1.0),\n",
       " ('1e-6', 1.0),\n",
       " ('+', 1.0),\n",
       " ('-', 1.0),\n",
       " ('print(a', 1.0),\n",
       " ('1000000000)', 1.0),\n",
       " ('a', 1.0),\n",
       " ('range(1000000):', 1.0),\n",
       " ('=', 1.0),\n",
       " ('in', 1.0),\n",
       " ('for', 1.0),\n",
       " ('i', 1.0)]"
      ]
     },
     "execution_count": 101,
     "metadata": {},
     "output_type": "execute_result"
    }
   ],
   "source": [
    "right_wrong_ratio = Counter()\n",
    "\n",
    "for point in answer_points:\n",
    "    ratio = right_point_counter[point] / float(wrong_point_counter[point]+1)\n",
    "    right_wrong_ratio[point] = ratio\n",
    "\n",
    "right_wrong_ratio.most_common()"
   ]
  },
  {
   "cell_type": "code",
   "execution_count": 123,
   "metadata": {
    "collapsed": true
   },
   "outputs": [],
   "source": [
    "question = \"How many bytes of memory does train_features need? train_features Shape: (55000, 784) Type: float32\"\n",
    "answer = \"172480000\"\n",
    "\n",
    "def add_quiz(question, answer):\n",
    "    if question in questions:\n",
    "        print(\"Error, you have this quiz already.\")\n",
    "    else:\n",
    "        questions.append(question)\n",
    "        answers.append(answer)\n",
    "add_quiz(question, answer)"
   ]
  },
  {
   "cell_type": "code",
   "execution_count": 125,
   "metadata": {
    "collapsed": false
   },
   "outputs": [],
   "source": [
    "add_quiz(\n",
    "    \"How many bytes of memory does train_labels need? train_labels Shape: (55000, 10) Type: float32\",\n",
    "    \"2200000\"\n",
    ")"
   ]
  },
  {
   "cell_type": "code",
   "execution_count": 127,
   "metadata": {
    "collapsed": false
   },
   "outputs": [
    {
     "data": {
      "text/plain": [
       "3"
      ]
     },
     "execution_count": 127,
     "metadata": {},
     "output_type": "execute_result"
    }
   ],
   "source": [
    "len(questions)"
   ]
  },
  {
   "cell_type": "code",
   "execution_count": 128,
   "metadata": {
    "collapsed": true
   },
   "outputs": [],
   "source": [
    "add_quiz(\n",
    "    \"How many bytes of memory does weights need? weights Shape: (784, 10) Type: float32\",\n",
    "    \"31360\"\n",
    ")"
   ]
  },
  {
   "cell_type": "code",
   "execution_count": 129,
   "metadata": {
    "collapsed": true
   },
   "outputs": [],
   "source": [
    "add_quiz(\n",
    "    \"How many bytes of memory does bias need? bias Shape: (10,) Type: float32\",\n",
    "    \"40\"\n",
    ")"
   ]
  },
  {
   "cell_type": "code",
   "execution_count": 139,
   "metadata": {
    "collapsed": false
   },
   "outputs": [
    {
     "name": "stdout",
     "output_type": "stream",
     "text": [
      "There's 5 quizs, below a first 5 of them:\n",
      "   Take the value(a) 1,000,000,000 and then add to it the value 10 t ...\n",
      "   How many bytes of memory does train_features need? train_features ...\n",
      "   How many bytes of memory does train_labels need? train_labels Sha ...\n",
      "   How many bytes of memory does weights need? weights Shape: (784,  ...\n",
      "   How many bytes of memory does bias need? bias Shape: (10,) Type:  ...\n"
     ]
    }
   ],
   "source": [
    "def quiz_states():\n",
    "    print(\"There's {len_of_quiz} quizs, below a first 5 of them:\".format(\n",
    "        len_of_quiz = len(questions)\n",
    "        ))\n",
    "    for quiz in questions[:5]:\n",
    "        print(\"  \", quiz[:65], \"...\")\n",
    "\n",
    "quiz_states()"
   ]
  },
  {
   "cell_type": "code",
   "execution_count": 196,
   "metadata": {
    "collapsed": false
   },
   "outputs": [
    {
     "data": {
      "text/plain": [
       "(391, 80)"
      ]
     },
     "execution_count": 196,
     "metadata": {},
     "output_type": "execute_result"
    }
   ],
   "source": [
    "features = 50000\n",
    "batch = 128\n",
    "# calculate batches and last batch number\n",
    "# features - int, feature numbers\n",
    "# batch - int, batch length\n",
    "# Example:\n",
    "# batches, last_feature = batch_calculate(numerator, dominator)\n",
    "\n",
    "def batch_calculate(features, batch):\n",
    "    modulo = features % batch\n",
    "    times = int((features - modulo) / batch)\n",
    "    return (times + 1, mod)\n",
    "\n",
    "batch_calculate(features, batch)"
   ]
  },
  {
   "cell_type": "code",
   "execution_count": 152,
   "metadata": {
    "collapsed": true
   },
   "outputs": [],
   "source": [
    "add_quiz(\n",
    "    \"\"\"\n",
    "    How many batches are there? \n",
    "    features is (50000, 400) \n",
    "    labels is (50000, 10)\n",
    "    batch_size is 128\n",
    "    \"\"\",\n",
    "    \"391\"\n",
    ")"
   ]
  },
  {
   "cell_type": "code",
   "execution_count": 154,
   "metadata": {
    "collapsed": false
   },
   "outputs": [
    {
     "name": "stdout",
     "output_type": "stream",
     "text": [
      "\n",
      "    How many batches are there? \n",
      "    features is (50000, 400) \n",
      "    labels is (50000, 10)\n",
      "    batch_size is 128\n",
      "    \n"
     ]
    }
   ],
   "source": [
    "print(questions[5])"
   ]
  },
  {
   "cell_type": "code",
   "execution_count": 155,
   "metadata": {
    "collapsed": true
   },
   "outputs": [],
   "source": [
    "add_quiz(\n",
    "    \"\"\"\n",
    "    What is the last batch size?\n",
    "    features is (50000, 400) \n",
    "    labels is (50000, 10)\n",
    "    batch_size is 128\n",
    "    \"\"\",\n",
    "    \"80\"\n",
    ")"
   ]
  },
  {
   "cell_type": "code",
   "execution_count": 156,
   "metadata": {
    "collapsed": false
   },
   "outputs": [
    {
     "name": "stdout",
     "output_type": "stream",
     "text": [
      "There's 7 quizs, below a first 5 of them:\n",
      "   Take the value(a) 1,000,000,000 and then add to it the value 10 t ...\n",
      "   How many bytes of memory does train_features need? train_features ...\n",
      "   How many bytes of memory does train_labels need? train_labels Sha ...\n",
      "   How many bytes of memory does weights need? weights Shape: (784,  ...\n",
      "   How many bytes of memory does bias need? bias Shape: (10,) Type:  ...\n"
     ]
    }
   ],
   "source": [
    "quiz_states()"
   ]
  },
  {
   "cell_type": "code",
   "execution_count": 160,
   "metadata": {
    "collapsed": false
   },
   "outputs": [],
   "source": [
    "import pickle\n",
    "\n",
    "with open('questions.pickle', 'wb') as f:\n",
    "    pickle.dump(questions, f, pickle.HIGHEST_PROTOCOL)\n",
    "    \n",
    "with open('answers.pickle', 'wb') as f:\n",
    "    pickle.dump(answers, f, pickle.HIGHEST_PROTOCOL)"
   ]
  },
  {
   "cell_type": "code",
   "execution_count": 197,
   "metadata": {
    "collapsed": false
   },
   "outputs": [
    {
     "name": "stdout",
     "output_type": "stream",
     "text": [
      "There's 7 quizs, below a first 5 of them:\n",
      "   Take the value(a) 1,000,000,000 and then add to it the value 10 t ...\n",
      "   How many bytes of memory does train_features need? train_features ...\n",
      "   How many bytes of memory does train_labels need? train_labels Sha ...\n",
      "   How many bytes of memory does weights need? weights Shape: (784,  ...\n",
      "   How many bytes of memory does bias need? bias Shape: (10,) Type:  ...\n"
     ]
    }
   ],
   "source": [
    "quiz_states()"
   ]
  },
  {
   "cell_type": "code",
   "execution_count": 198,
   "metadata": {
    "collapsed": false
   },
   "outputs": [
    {
     "data": {
      "text/plain": [
       "'How many bytes of memory does train_labels need? train_labels Shape: (55000, 10) Type: float32'"
      ]
     },
     "execution_count": 198,
     "metadata": {},
     "output_type": "execute_result"
    }
   ],
   "source": [
    "questions[2]"
   ]
  },
  {
   "cell_type": "code",
   "execution_count": 1,
   "metadata": {
    "collapsed": false,
    "scrolled": true
   },
   "outputs": [
    {
     "ename": "NameError",
     "evalue": "name 'right_wrong_ratio' is not defined",
     "output_type": "error",
     "traceback": [
      "\u001b[0;31m---------------------------------------------------------------------------\u001b[0m",
      "\u001b[0;31mNameError\u001b[0m                                 Traceback (most recent call last)",
      "\u001b[0;32m<ipython-input-1-4b13a00bfd6a>\u001b[0m in \u001b[0;36m<module>\u001b[0;34m()\u001b[0m\n\u001b[0;32m----> 1\u001b[0;31m \u001b[0mright_wrong_ratio\u001b[0m\u001b[0;34m.\u001b[0m\u001b[0mmost_common\u001b[0m\u001b[0;34m(\u001b[0m\u001b[0;34m)\u001b[0m\u001b[0;34m\u001b[0m\u001b[0m\n\u001b[0m",
      "\u001b[0;31mNameError\u001b[0m: name 'right_wrong_ratio' is not defined"
     ]
    }
   ],
   "source": [
    "right_wrong_ratio.most_common()"
   ]
  },
  {
   "cell_type": "code",
   "execution_count": null,
   "metadata": {
    "collapsed": true
   },
   "outputs": [],
   "source": []
  }
 ],
 "metadata": {
  "kernelspec": {
   "display_name": "Python 3",
   "language": "python",
   "name": "python3"
  },
  "language_info": {
   "codemirror_mode": {
    "name": "ipython",
    "version": 3
   },
   "file_extension": ".py",
   "mimetype": "text/x-python",
   "name": "python",
   "nbconvert_exporter": "python",
   "pygments_lexer": "ipython3",
   "version": "3.5.3"
  }
 },
 "nbformat": 4,
 "nbformat_minor": 1
}
