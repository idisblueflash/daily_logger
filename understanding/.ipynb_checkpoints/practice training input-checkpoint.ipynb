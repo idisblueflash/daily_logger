{
 "cells": [
  {
   "cell_type": "markdown",
   "metadata": {},
   "source": [
    "# Practice Training\n",
    "Training quiz for skill get"
   ]
  },
  {
   "cell_type": "code",
   "execution_count": 1,
   "metadata": {
    "collapsed": false
   },
   "outputs": [],
   "source": [
    "from collections import Counter\n",
    "import pickle\n",
    "right_point_counter = Counter()\n",
    "wrong_point_counter = Counter()\n",
    "total_point_counter = Counter()\n",
    "\n",
    "questions = []\n",
    "answers = []\n"
   ]
  },
  {
   "cell_type": "code",
   "execution_count": 24,
   "metadata": {
    "collapsed": false
   },
   "outputs": [],
   "source": [
    "import pickle\n",
    "\n",
    "def save_datas():\n",
    "    data = {\n",
    "        'questions': questions,\n",
    "        'answers': answers\n",
    "    }\n",
    "    with open('datas.pickle', 'wb') as f:\n",
    "        pickle.dump(data, f, pickle.HIGHEST_PROTOCOL)\n"
   ]
  },
  {
   "cell_type": "code",
   "execution_count": 2,
   "metadata": {
    "collapsed": false
   },
   "outputs": [],
   "source": [
    "# load answers from pickle\n",
    "def load_datas():\n",
    "    with open('datas.pickle', 'rb') as f:     \n",
    "        # The protocol version used is detected automatically, so we do not     \n",
    "        # have to specify it.     \n",
    "        datas = pickle.load(f)\n",
    "        f.close()\n",
    "        return datas\n",
    "datas = load_datas()\n",
    "questions = datas['questions']\n",
    "answers = datas['answers']"
   ]
  },
  {
   "cell_type": "code",
   "execution_count": 3,
   "metadata": {
    "collapsed": true
   },
   "outputs": [],
   "source": [
    "# add quiz \n",
    "def add_quiz(question, answer):\n",
    "    if question in questions:\n",
    "        print(\"Error, you have this quiz already.\")\n",
    "    else:\n",
    "        questions.append(question)\n",
    "        answers.append(answer)"
   ]
  },
  {
   "cell_type": "code",
   "execution_count": 4,
   "metadata": {
    "collapsed": false
   },
   "outputs": [
    {
     "name": "stdout",
     "output_type": "stream",
     "text": [
      "Error, you have this quiz already.\n"
     ]
    }
   ],
   "source": [
    "# first question\n",
    "\n",
    "add_quiz(\n",
    "    \"Take the value(a) 1,000,000,000 and then add to it the value 10 to the minus 6 1,000,000 times, then subtract 1,000,000,000 again. What do you get?\",\n",
    "    \"\"\"\n",
    "    a = 1000000000\n",
    "    for i in range(1000000):\n",
    "        a = a + 1e-6\n",
    "    print(a - 1000000000)\n",
    "    \"\"\"\n",
    ")\n"
   ]
  },
  {
   "cell_type": "code",
   "execution_count": 5,
   "metadata": {
    "collapsed": false
   },
   "outputs": [],
   "source": [
    "# second question\n",
    "add_quiz(\n",
    "    \"\"\"How to use List Comphrehension to calculate square values\n",
    "    from 1 to 10?\n",
    "    use x for each value\n",
    "    \"\"\",\n",
    "    \"[x*x for x in range(10)]\"\n",
    "    )"
   ]
  },
  {
   "cell_type": "code",
   "execution_count": 6,
   "metadata": {
    "collapsed": false
   },
   "outputs": [],
   "source": [
    "# flatten nested list recursively\n",
    "def flatten(l, a):\n",
    "    for i in l:\n",
    "        if isinstance(i, list):\n",
    "            flatten(i, a)\n",
    "        else:\n",
    "            a.append(i)\n",
    "    return a\n"
   ]
  },
  {
   "cell_type": "code",
   "execution_count": 8,
   "metadata": {
    "collapsed": false
   },
   "outputs": [
    {
     "name": "stdout",
     "output_type": "stream",
     "text": [
      "org list is:\n",
      " range((max=9), 1000000):\n",
      "Step 1. text_splited is:\n",
      "\"['range', '(', ['', '(', 'max=9), 1000000):']]\"\n",
      "Step 2. text falttened:\n",
      "['range', '(', '', '(', 'max=9), 1000000):']\n",
      "Step 3. split with )\n",
      "['range', '(', '', '(', ['max=9', ')', [', 1000000', ')', ':']]]\n",
      "Setp 4. flatten\n",
      "['range', '(', '', '(', 'max=9', ')', ', 1000000', ')', ':']\n"
     ]
    }
   ],
   "source": [
    "\n",
    "def split_special_char(word, spliter):\n",
    "    spliter_index = word.find(spliter)\n",
    "    if spliter_index == -1:\n",
    "        return word\n",
    "    else:\n",
    "        finished_part = word[:spliter_index] \n",
    "        outs = [finished_part, spliter]\n",
    "        working_part = word[spliter_index+1:]\n",
    "\n",
    "        outs.append(split_special_char(working_part, spliter))\n",
    "        return outs\n",
    "\n",
    "single_text = \"range((max=9), 1000000):\"\n",
    "text_splited = split_special_char(single_text, '(')\n",
    "print('org list is:\\n', single_text )\n",
    "print('Step 1. text_splited is:\\n\"{}\"'.format(text_splited))\n",
    "text_flatten = flatten(text_splited, [])\n",
    "\n",
    "print('Step 2. text falttened:')\n",
    "print(text_flatten)\n",
    "\n",
    "print('Step 3. split with )')\n",
    "text_splited = [split_special_char(word, ')') for word in text_flatten]\n",
    "print(text_splited)\n",
    "\n",
    "print('Setp 4. flatten')\n",
    "text_flatten = flatten(text_splited, [])\n",
    "print(text_flatten)"
   ]
  },
  {
   "cell_type": "code",
   "execution_count": 9,
   "metadata": {
    "collapsed": false
   },
   "outputs": [
    {
     "name": "stdout",
     "output_type": "stream",
     "text": [
      "['\\na = 1000000000\\nfor i in range(1000000):\\n    a = a + 1e-6\\nprint(a - 1000000000)\\n', '[x*x for x in range(10)]', '172480000', '2200000', '31360', '40', '391', '80', '[x*x for x in range(10)]']\n"
     ]
    },
    {
     "data": {
      "text/plain": [
       "['[', 'x*x', 'for', 'x', 'in', 'range', '(', '10', ')', ']']"
      ]
     },
     "execution_count": 9,
     "metadata": {},
     "output_type": "execute_result"
    }
   ],
   "source": [
    "def split_out_points(answer):\n",
    "    # noraml split with space, new line and remove empty\n",
    "    pre_words = [line.split(\" \") for line in answer.split('\\n')]\n",
    "    pre_words = flatten(pre_words, [])\n",
    "    # special split (\n",
    "    pre_words = [split_special_char(word, '(') for word in pre_words]\n",
    "    pre_words = flatten(pre_words, [])\n",
    "    # special split )\n",
    "    pre_words = [split_special_char(word, ')') for word in pre_words]\n",
    "    pre_words = flatten(pre_words, [])\n",
    "    # special split [\n",
    "    pre_words = [split_special_char(word, '[') for word in pre_words]\n",
    "    pre_words = flatten(pre_words, [])\n",
    "    # special split ]\n",
    "    pre_words = [split_special_char(word, ']') for word in pre_words]\n",
    "    pre_words = flatten(pre_words, [])\n",
    "    # remove '' in list\n",
    "    pre_words = [word for word in pre_words if word != '']\n",
    "\n",
    "    return pre_words \n",
    "print(answers)\n",
    "split_out_points(answers[1])"
   ]
  },
  {
   "cell_type": "code",
   "execution_count": 87,
   "metadata": {
    "collapsed": false
   },
   "outputs": [],
   "source": [
    "# Update quiz states \n",
    "# update_quiz_state\n",
    "# answer - string, answer of quiz\n",
    "# check_flag - boolean, right or wrong by user\n",
    "def update_quiz_state(answer, check_flag=False):\n",
    "    # initialize answer word\n",
    "    points = split_out_points(answer)\n",
    "    for point in points:\n",
    "        if point not in answer_points:\n",
    "            answer_points.add(point) \n",
    "\n",
    "    for point in points:\n",
    "        if check_flag:\n",
    "            right_point_counter[point] += 1\n",
    "        else:\n",
    "            wrong_point_counter[point] += 1\n"
   ]
  },
  {
   "cell_type": "code",
   "execution_count": 11,
   "metadata": {
    "collapsed": false
   },
   "outputs": [
    {
     "data": {
      "text/plain": [
       "True"
      ]
     },
     "execution_count": 11,
     "metadata": {},
     "output_type": "execute_result"
    }
   ],
   "source": [
    "# Get user input, check and give precent of right\n",
    "user_answer = \"\"\"\n",
    "a = 1000000000\n",
    "for i in range(1000000):\n",
    "    a = a + 1e-6\n",
    "print(a - 1000000000)\n",
    "\"\"\"\n",
    "\n",
    "check_flag = (user_answer == answers[0])\n",
    "check_flag"
   ]
  },
  {
   "cell_type": "code",
   "execution_count": 12,
   "metadata": {
    "collapsed": false
   },
   "outputs": [
    {
     "data": {
      "text/plain": [
       "{'(',\n",
       " ')',\n",
       " '+',\n",
       " '-',\n",
       " '1000000',\n",
       " '1000000000',\n",
       " '1e-6',\n",
       " ':',\n",
       " '=',\n",
       " 'a',\n",
       " 'for',\n",
       " 'i',\n",
       " 'in',\n",
       " 'print',\n",
       " 'range'}"
      ]
     },
     "execution_count": 12,
     "metadata": {},
     "output_type": "execute_result"
    }
   ],
   "source": [
    "# Create answer points\n",
    "answer_points = set()\n",
    "update_quiz_state(answers[0], check_flag)\n",
    "answer_points"
   ]
  },
  {
   "cell_type": "code",
   "execution_count": 13,
   "metadata": {
    "collapsed": false
   },
   "outputs": [
    {
     "data": {
      "text/plain": [
       "[('-', 1.0),\n",
       " ('1000000', 1.0),\n",
       " ('1000000000', 1.0),\n",
       " ('for', 1.0),\n",
       " ('range', 1.0),\n",
       " ('1e-6', 1.0),\n",
       " ('in', 1.0),\n",
       " (':', 1.0),\n",
       " ('+', 1.0),\n",
       " ('a', 1.0),\n",
       " ('=', 1.0),\n",
       " ('i', 1.0),\n",
       " ('print', 1.0),\n",
       " (')', 1.0),\n",
       " ('(', 1.0)]"
      ]
     },
     "execution_count": 13,
     "metadata": {},
     "output_type": "execute_result"
    }
   ],
   "source": [
    "right_wrong_ratio = Counter()\n",
    "\n",
    "def update_point_ratio():\n",
    "    for point in answer_points:\n",
    "        ratio = right_point_counter[point] / float(wrong_point_counter[point]+1)\n",
    "        right_wrong_ratio[point] = ratio\n",
    "update_point_ratio()\n",
    "right_wrong_ratio.most_common()"
   ]
  },
  {
   "cell_type": "code",
   "execution_count": 15,
   "metadata": {
    "collapsed": false
   },
   "outputs": [
    {
     "name": "stdout",
     "output_type": "stream",
     "text": [
      "Error, you have this quiz already.\n"
     ]
    }
   ],
   "source": [
    "add_quiz(\n",
    "    \"How many bytes of memory does train_features need? train_features Shape: (55000, 784) Type: float32\",\n",
    "    \"172480000\")"
   ]
  },
  {
   "cell_type": "code",
   "execution_count": 16,
   "metadata": {
    "collapsed": false
   },
   "outputs": [
    {
     "name": "stdout",
     "output_type": "stream",
     "text": [
      "Error, you have this quiz already.\n"
     ]
    }
   ],
   "source": [
    "add_quiz(\n",
    "    \"How many bytes of memory does train_labels need? train_labels Shape: (55000, 10) Type: float32\",\n",
    "    \"2200000\"\n",
    ")"
   ]
  },
  {
   "cell_type": "code",
   "execution_count": 17,
   "metadata": {
    "collapsed": false
   },
   "outputs": [
    {
     "data": {
      "text/plain": [
       "9"
      ]
     },
     "execution_count": 17,
     "metadata": {},
     "output_type": "execute_result"
    }
   ],
   "source": [
    "len(questions)"
   ]
  },
  {
   "cell_type": "code",
   "execution_count": 18,
   "metadata": {
    "collapsed": false
   },
   "outputs": [
    {
     "name": "stdout",
     "output_type": "stream",
     "text": [
      "Error, you have this quiz already.\n"
     ]
    }
   ],
   "source": [
    "add_quiz(\n",
    "    \"How many bytes of memory does weights need? weights Shape: (784, 10) Type: float32\",\n",
    "    \"31360\"\n",
    ")"
   ]
  },
  {
   "cell_type": "code",
   "execution_count": 19,
   "metadata": {
    "collapsed": false
   },
   "outputs": [
    {
     "name": "stdout",
     "output_type": "stream",
     "text": [
      "Error, you have this quiz already.\n"
     ]
    }
   ],
   "source": [
    "add_quiz(\n",
    "    \"How many bytes of memory does bias need? bias Shape: (10,) Type: float32\",\n",
    "    \"40\"\n",
    ")"
   ]
  },
  {
   "cell_type": "code",
   "execution_count": 20,
   "metadata": {
    "collapsed": false
   },
   "outputs": [
    {
     "name": "stdout",
     "output_type": "stream",
     "text": [
      "There's 9 quizs, below a first 5 of them:\n",
      "   Take the value(a) 1,000,000,000 and then add to it the value 10 t ...\n",
      "   \n",
      "    How to use List Comphrehension to calculate square values\n",
      "   ...\n",
      "   How many bytes of memory does train_features need? train_features ...\n",
      "   How many bytes of memory does train_labels need? train_labels Sha ...\n",
      "   How many bytes of memory does weights need? weights Shape: (784,  ...\n"
     ]
    }
   ],
   "source": [
    "def quiz_states():\n",
    "    print(\"There's {len_of_quiz} quizs, below a first 5 of them:\".format(\n",
    "        len_of_quiz = len(questions)\n",
    "        ))\n",
    "    for quiz in questions[:5]:\n",
    "        print(\"  \", quiz[:65], \"...\")\n",
    "\n",
    "quiz_states()"
   ]
  },
  {
   "cell_type": "code",
   "execution_count": 21,
   "metadata": {
    "collapsed": false
   },
   "outputs": [
    {
     "name": "stdout",
     "output_type": "stream",
     "text": [
      "Error, you have this quiz already.\n"
     ]
    }
   ],
   "source": [
    "add_quiz(\n",
    "    \"\"\"\n",
    "    How many batches are there? \n",
    "    features is (50000, 400) \n",
    "    labels is (50000, 10)\n",
    "    batch_size is 128\n",
    "    \"\"\",\n",
    "    \"391\"\n",
    ")"
   ]
  },
  {
   "cell_type": "code",
   "execution_count": 22,
   "metadata": {
    "collapsed": false
   },
   "outputs": [
    {
     "name": "stdout",
     "output_type": "stream",
     "text": [
      "Error, you have this quiz already.\n"
     ]
    }
   ],
   "source": [
    "add_quiz(\n",
    "    \"\"\"\n",
    "    What is the last batch size?\n",
    "    features is (50000, 400) \n",
    "    labels is (50000, 10)\n",
    "    batch_size is 128\n",
    "    \"\"\",\n",
    "    \"80\"\n",
    ")"
   ]
  },
  {
   "cell_type": "code",
   "execution_count": 25,
   "metadata": {
    "collapsed": false,
    "scrolled": true
   },
   "outputs": [
    {
     "name": "stdout",
     "output_type": "stream",
     "text": [
      "There's 9 quizs, below a first 5 of them:\n",
      "   Take the value(a) 1,000,000,000 and then add to it the value 10 t ...\n",
      "   \n",
      "    How to use List Comphrehension to calculate square values\n",
      "   ...\n",
      "   How many bytes of memory does train_features need? train_features ...\n",
      "   How many bytes of memory does train_labels need? train_labels Sha ...\n",
      "   How many bytes of memory does weights need? weights Shape: (784,  ...\n"
     ]
    }
   ],
   "source": [
    "quiz_states()"
   ]
  },
  {
   "cell_type": "code",
   "execution_count": 28,
   "metadata": {
    "collapsed": false,
    "scrolled": true
   },
   "outputs": [
    {
     "data": {
      "text/plain": [
       "[('-', 1.0),\n",
       " ('1000000', 1.0),\n",
       " ('1000000000', 1.0),\n",
       " ('for', 1.0),\n",
       " ('range', 1.0),\n",
       " ('1e-6', 1.0),\n",
       " ('in', 1.0),\n",
       " (':', 1.0),\n",
       " ('+', 1.0),\n",
       " ('a', 1.0),\n",
       " ('=', 1.0),\n",
       " ('i', 1.0),\n",
       " ('print', 1.0),\n",
       " (')', 1.0),\n",
       " ('(', 1.0)]"
      ]
     },
     "execution_count": 28,
     "metadata": {},
     "output_type": "execute_result"
    }
   ],
   "source": [
    "right_wrong_ratio.most_common()"
   ]
  },
  {
   "cell_type": "code",
   "execution_count": 37,
   "metadata": {
    "collapsed": false
   },
   "outputs": [
    {
     "data": {
      "text/plain": [
       "22.0"
      ]
     },
     "execution_count": 37,
     "metadata": {},
     "output_type": "execute_result"
    }
   ],
   "source": [
    "# TODO: calculate question level based on right_wrong_ratio\n",
    "def calculate_question_level(answer):\n",
    "    points_in_answer = split_out_points(answer)\n",
    "    total_mark = 0\n",
    "    for point in points_in_answer:\n",
    "        total_mark += right_wrong_ratio[point]\n",
    "    return total_mark"
   ]
  },
  {
   "cell_type": "code",
   "execution_count": 53,
   "metadata": {
    "collapsed": false
   },
   "outputs": [
    {
     "data": {
      "text/plain": [
       "[(0, 22.0), (1, 5.0), (8, 5.0), (2, 0), (3, 0), (4, 0), (5, 0), (6, 0), (7, 0)]"
      ]
     },
     "execution_count": 53,
     "metadata": {},
     "output_type": "execute_result"
    }
   ],
   "source": [
    "question_levels = Counter()\n",
    "\n",
    "def update_question_levels():\n",
    "    for i in range(len(answers)):\n",
    "        questin_level = calculate_question_level(answers[i])\n",
    "        question_levels[i] = questin_level\n",
    "\n",
    "update_question_levels()       \n",
    "question_levels.most_common()"
   ]
  },
  {
   "cell_type": "code",
   "execution_count": 45,
   "metadata": {
    "collapsed": false
   },
   "outputs": [],
   "source": [
    "def test(index):\n",
    "    print(questions[index])"
   ]
  },
  {
   "cell_type": "code",
   "execution_count": 204,
   "metadata": {
    "collapsed": true
   },
   "outputs": [],
   "source": [
    "def check_word(flag):\n",
    "    if flag:\n",
    "        return 'Right (\\/)'\n",
    "    else:\n",
    "        return 'NOT right. (X)'"
   ]
  },
  {
   "cell_type": "code",
   "execution_count": 219,
   "metadata": {
    "collapsed": false,
    "scrolled": true
   },
   "outputs": [
    {
     "name": "stdout",
     "output_type": "stream",
     "text": [
      "Make a dictionary(int_to_vocab) that goes backward \n",
      "    from integers to characters with a set(vocab_to_int).\n",
      "    \n"
     ]
    },
    {
     "data": {
      "text/plain": [
       "'vocab_to_int = {c: i for i, c in enumerate(vocab)}'"
      ]
     },
     "execution_count": 219,
     "metadata": {},
     "output_type": "execute_result"
    }
   ],
   "source": [
    "quiz_number = 15\n",
    "test(quiz_number)\n",
    "answers[quiz_number]"
   ]
  },
  {
   "cell_type": "code",
   "execution_count": 213,
   "metadata": {
    "collapsed": false
   },
   "outputs": [],
   "source": [
    "# User Answer field\n",
    "import numpy as np\n",
    "user_answer = 50000 - int(50000 / 128)*128\n",
    "user_answer = \"vocab_to_int = {x: i for x, i enumerate(vocab)}\"\n",
    "if type(user_answer) != 'str':\n",
    "    user_answer = str(user_answer)\n"
   ]
  },
  {
   "cell_type": "code",
   "execution_count": 214,
   "metadata": {
    "collapsed": false
   },
   "outputs": [
    {
     "name": "stdout",
     "output_type": "stream",
     "text": [
      "Answer is: <class 'str'> vocab = set(text)\n",
      "And yours: <class 'str'> vocab_to_int = {x: i for x, i enumerate(vocab)}\n",
      "You are\n",
      "NOT right. (X)\n"
     ]
    }
   ],
   "source": [
    "print('Answer is:', type(answers[quiz_number]), answers[quiz_number])\n",
    "print('And yours:', type(user_answer), user_answer)\n",
    "print('You are')\n",
    "check_result = check_word(user_answer == answers[quiz_number])\n",
    "print(check_result)\n",
    "\n"
   ]
  },
  {
   "cell_type": "code",
   "execution_count": 211,
   "metadata": {
    "collapsed": false,
    "scrolled": true
   },
   "outputs": [
    {
     "data": {
      "text/plain": [
       "[(1, 5.909090909090908),\n",
       " (8, 5.909090909090908),\n",
       " (17, 4.8181818181818175),\n",
       " (9, 4.0),\n",
       " (10, 4.0),\n",
       " (0, 2.6363636363636354),\n",
       " (18, 2.0),\n",
       " (13, 1.8181818181818183),\n",
       " (2, 1.0),\n",
       " (3, 1.0),\n",
       " (4, 1.0),\n",
       " (5, 1.0),\n",
       " (6, 1.0),\n",
       " (11, 1.0),\n",
       " (12, 1.0),\n",
       " (15, 0.9090909090909092),\n",
       " (16, 0.8181818181818181),\n",
       " (14, 0.45454545454545453),\n",
       " (7, 0.045454545454545456)]"
      ]
     },
     "execution_count": 211,
     "metadata": {},
     "output_type": "execute_result"
    }
   ],
   "source": [
    "# Update status\n",
    "if check_result:\n",
    "    update_quiz_state(answers[quiz_number], True)\n",
    "else:\n",
    "    update_quiz_state(answers[quiz_number], False)\n",
    "\n",
    "# Update all status\n",
    "update_point_ratio()\n",
    "update_question_levels()\n",
    "question_levels.most_common()"
   ]
  },
  {
   "cell_type": "code",
   "execution_count": 201,
   "metadata": {
    "collapsed": false
   },
   "outputs": [
    {
     "data": {
      "text/plain": [
       "[(1, 5.909090909090908),\n",
       " (8, 5.909090909090908),\n",
       " (17, 4.8181818181818175),\n",
       " (0, 2.6363636363636354),\n",
       " (18, 2.0),\n",
       " (2, 1.0),\n",
       " (3, 1.0),\n",
       " (4, 1.0),\n",
       " (5, 1.0),\n",
       " (6, 1.0),\n",
       " (15, 0.9090909090909092),\n",
       " (13, 0.8181818181818183),\n",
       " (16, 0.8181818181818181),\n",
       " (14, 0.45454545454545453),\n",
       " (7, 0.0),\n",
       " (9, 0),\n",
       " (10, 0),\n",
       " (11, 0),\n",
       " (12, 0)]"
      ]
     },
     "execution_count": 201,
     "metadata": {},
     "output_type": "execute_result"
    }
   ],
   "source": []
  },
  {
   "cell_type": "code",
   "execution_count": 194,
   "metadata": {
    "collapsed": false
   },
   "outputs": [
    {
     "name": "stdout",
     "output_type": "stream",
     "text": [
      "There's 18 quizs, below a first 5 of them:\n",
      "   Take the value(a) 1,000,000,000 and then add to it the value 10 t ...\n",
      "   \n",
      "    How to use List Comphrehension to calculate square values\n",
      "   ...\n",
      "   How many bytes of memory does train_features need? train_features ...\n",
      "   How many bytes of memory does train_labels need? train_labels Sha ...\n",
      "   How many bytes of memory does weights need? weights Shape: (784,  ...\n"
     ]
    }
   ],
   "source": [
    "# Udate all status after added new quizs\n",
    "question_levels.most_common()\n",
    "quiz_states()"
   ]
  },
  {
   "cell_type": "code",
   "execution_count": 161,
   "metadata": {
    "collapsed": true
   },
   "outputs": [],
   "source": [
    "add_quiz(\n",
    "    \"How to import tensorflow module?\",\n",
    "    \"import tensorflow as tf\"\n",
    ")"
   ]
  },
  {
   "cell_type": "code",
   "execution_count": 162,
   "metadata": {
    "collapsed": true
   },
   "outputs": [],
   "source": [
    "add_quiz(\n",
    "    \"How to import named tuple module?\",\n",
    "    \"from collections import namedtuple\"\n",
    ")"
   ]
  },
  {
   "cell_type": "code",
   "execution_count": 163,
   "metadata": {
    "collapsed": true
   },
   "outputs": [],
   "source": [
    "add_quiz(\n",
    "    \"How to import time module?\",\n",
    "    \"import time\"\n",
    ")"
   ]
  },
  {
   "cell_type": "code",
   "execution_count": 157,
   "metadata": {
    "collapsed": true
   },
   "outputs": [],
   "source": [
    "def remove_last_quiz():\n",
    "    questions.pop()\n",
    "    answers.pop()"
   ]
  },
  {
   "cell_type": "code",
   "execution_count": 158,
   "metadata": {
    "collapsed": true
   },
   "outputs": [],
   "source": [
    "remove_last_quiz()\n",
    "questions[-1]"
   ]
  },
  {
   "cell_type": "code",
   "execution_count": 165,
   "metadata": {
    "collapsed": false
   },
   "outputs": [],
   "source": [
    "add_quiz(\n",
    "    \"How to read a file(anna.txt) into a variable(text)?\",\n",
    "    \"\"\"\n",
    "    with open('anna.txt', 'r') as f:'\n",
    "        text = f.read()\n",
    "    \"\"\"\n",
    ")\n"
   ]
  },
  {
   "cell_type": "code",
   "execution_count": 220,
   "metadata": {
    "collapsed": false
   },
   "outputs": [
    {
     "name": "stdout",
     "output_type": "stream",
     "text": [
      "Error, you have this quiz already.\n"
     ]
    }
   ],
   "source": [
    "add_quiz(\n",
    "    \"\"\"How to make a set(vocab), so this is basically\n",
    "    a set of all the characters from a book(text)?\n",
    "    eg. String 'Hallo world' will become \n",
    "    {'H', \n",
    "     'a', \n",
    "     'l', \n",
    "     'o', \n",
    "     'w', \n",
    "     'r', \n",
    "     'd'}\n",
    "    \"\"\",\n",
    "    \"vocab = set(text)\"\n",
    ")"
   ]
  },
  {
   "cell_type": "code",
   "execution_count": 174,
   "metadata": {
    "collapsed": false
   },
   "outputs": [
    {
     "data": {
      "text/plain": [
       "\"How to make a set(vocab), so this is basically\\n    a set of all the characters from a book(text)?\\n    eg. String 'Hallo world' will become \\n    {'H', \\n     'a', \\n     'l', \\n     'o', \\n     'w', \\n     'r', \\n     'd'}\\n    \""
      ]
     },
     "execution_count": 174,
     "metadata": {},
     "output_type": "execute_result"
    }
   ],
   "source": [
    "questions[-1]"
   ]
  },
  {
   "cell_type": "code",
   "execution_count": 164,
   "metadata": {
    "collapsed": false
   },
   "outputs": [
    {
     "data": {
      "text/plain": [
       "[(0, 1.9999999999999993),\n",
       " (2, 1.0),\n",
       " (3, 1.0),\n",
       " (4, 1.0),\n",
       " (5, 1.0),\n",
       " (6, 1.0),\n",
       " (1, 0.4545454545454546),\n",
       " (8, 0.4545454545454546),\n",
       " (7, 0.0),\n",
       " (9, 0),\n",
       " (10, 0),\n",
       " (11, 0),\n",
       " (12, 0)]"
      ]
     },
     "execution_count": 164,
     "metadata": {},
     "output_type": "execute_result"
    }
   ],
   "source": [
    "update_question_levels()\n",
    "question_levels.most_common()"
   ]
  },
  {
   "cell_type": "code",
   "execution_count": 168,
   "metadata": {
    "collapsed": false
   },
   "outputs": [
    {
     "data": {
      "text/plain": [
       "{' ', 'H', 'a', 'd', 'l', 'o', 'r', 'w'}"
      ]
     },
     "execution_count": 168,
     "metadata": {},
     "output_type": "execute_result"
    }
   ],
   "source": [
    "text = 'Hallo word'\n",
    "vocab = set(text)\n",
    "vocab"
   ]
  },
  {
   "cell_type": "code",
   "execution_count": 169,
   "metadata": {
    "collapsed": true
   },
   "outputs": [],
   "source": [
    "vocab_to_int = {c: i for i, c in enumerate(vocab)}"
   ]
  },
  {
   "cell_type": "code",
   "execution_count": 179,
   "metadata": {
    "collapsed": false
   },
   "outputs": [
    {
     "name": "stdout",
     "output_type": "stream",
     "text": [
      "{'a': 5, 'd': 0, 'r': 1, ' ': 2, 'w': 6, 'o': 3, 'l': 7, 'H': 4}\n",
      "{0: 'a', 1: 'd', 2: 'r', 3: ' ', 4: 'w', 5: 'o', 6: 'l', 7: 'H'}\n"
     ]
    }
   ],
   "source": [
    "print(vocab_to_int)\n",
    "print(dict(enumerate(vocab_to_int)))\n",
    "enumerate"
   ]
  },
  {
   "cell_type": "code",
   "execution_count": 175,
   "metadata": {
    "collapsed": true
   },
   "outputs": [],
   "source": [
    "add_quiz(\n",
    "    \"\"\"Make a dictionary(vocab_to_int) where you can convert\n",
    "    the characters set(vocab) to integers?\n",
    "    \"\"\",\n",
    "    \"vocab_to_int = {c: i for i, c in enumerate(vocab)}\"\n",
    ")\n"
   ]
  },
  {
   "cell_type": "code",
   "execution_count": 181,
   "metadata": {
    "collapsed": true
   },
   "outputs": [],
   "source": [
    "add_quiz(\n",
    "    \"\"\"Make a dictionary(int_to_vocab) that goes backward \n",
    "    from integers to characters with a set(vocab_to_int).\n",
    "    \"\"\",\n",
    "    \"int_to_vocab = dict(enumerate(vocab))\"\n",
    ")"
   ]
  },
  {
   "cell_type": "code",
   "execution_count": 187,
   "metadata": {
    "collapsed": false
   },
   "outputs": [],
   "source": [
    "add_quiz(\n",
    "    \"\"\"Make a array(chars) of all the characters in a sentence(text),\n",
    "    with integers to charaters index in np.array(int32).\"\"\",\n",
    "    \"chars = np.array([vocab_to_int[c] for c in text], dtype=np.int32)\"\n",
    ")\n"
   ]
  },
  {
   "cell_type": "code",
   "execution_count": 188,
   "metadata": {
    "collapsed": false
   },
   "outputs": [
    {
     "data": {
      "text/plain": [
       "'Make a array(chars) of all the characters in a sentence(text),\\n    with integers to charaters index in np.array(int32).'"
      ]
     },
     "execution_count": 188,
     "metadata": {},
     "output_type": "execute_result"
    }
   ],
   "source": [
    "questions[-1]"
   ]
  },
  {
   "cell_type": "code",
   "execution_count": 190,
   "metadata": {
    "collapsed": true
   },
   "outputs": [],
   "source": [
    "remove_last_quiz()"
   ]
  },
  {
   "cell_type": "code",
   "execution_count": 191,
   "metadata": {
    "collapsed": true
   },
   "outputs": [],
   "source": [
    "add_quiz(\n",
    "    \"How to get first 100 charaters in a list(text)?\",\n",
    "    \"text[:100]\"\n",
    ")"
   ]
  },
  {
   "cell_type": "code",
   "execution_count": 192,
   "metadata": {
    "collapsed": true
   },
   "outputs": [],
   "source": [
    "save_datas()"
   ]
  },
  {
   "cell_type": "code",
   "execution_count": null,
   "metadata": {
    "collapsed": true
   },
   "outputs": [],
   "source": [
    "# TODO: \n",
    "# 1. add save right_point_counter, right_wrong_ratio in save_datas\n",
    "# 2. draw working flow about practice training"
   ]
  }
 ],
 "metadata": {
  "kernelspec": {
   "display_name": "Python 3",
   "language": "python",
   "name": "python3"
  },
  "language_info": {
   "codemirror_mode": {
    "name": "ipython",
    "version": 3
   },
   "file_extension": ".py",
   "mimetype": "text/x-python",
   "name": "python",
   "nbconvert_exporter": "python",
   "pygments_lexer": "ipython3",
   "version": "3.5.3"
  }
 },
 "nbformat": 4,
 "nbformat_minor": 1
}
