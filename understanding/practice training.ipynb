{
 "cells": [
  {
   "cell_type": "markdown",
   "metadata": {},
   "source": [
    "# Practice Training\n",
    "Training quiz for skill get"
   ]
  },
  {
   "cell_type": "code",
   "execution_count": 1,
   "metadata": {
    "collapsed": false
   },
   "outputs": [],
   "source": [
    "from collections import Counter\n",
    "import tensorflow as tf\n",
    "import pickle\n",
    "import numpy as np"
   ]
  },
  {
   "cell_type": "code",
   "execution_count": 2,
   "metadata": {
    "collapsed": false
   },
   "outputs": [],
   "source": [
    "# initialize quiz\n",
    "\n",
    "right_point_counter = Counter()\n",
    "wrong_point_counter = Counter()\n",
    "total_point_counter = Counter()\n",
    "\n",
    "right_wrong_ratio = Counter()\n",
    "question_levels = Counter()\n",
    "\n",
    "# Create answer points\n",
    "answer_points = set()\n",
    "\n"
   ]
  },
  {
   "cell_type": "code",
   "execution_count": 10,
   "metadata": {
    "collapsed": true
   },
   "outputs": [],
   "source": [
    "# ONLY once when setup, set default value of ratio...\n",
    "for i in range(len(answers)):\n",
    "    update_quiz_state(i)"
   ]
  },
  {
   "cell_type": "code",
   "execution_count": 4,
   "metadata": {
    "collapsed": false
   },
   "outputs": [],
   "source": [
    "def save_datas():\n",
    "    data = {\n",
    "        'questions': questions,\n",
    "        'answers': answers,\n",
    "        'right_counter': right_point_counter,\n",
    "        'wrong_counter': wrong_point_counter,\n",
    "        'right_wrong_ratio': right_wrong_ratio,\n",
    "        'question_levels': question_levels\n",
    "    }\n",
    "    with open('datas.pickle', 'wb') as f:\n",
    "        pickle.dump(data, f, pickle.HIGHEST_PROTOCOL)\n",
    "\n",
    "# load answers from pickle\n",
    "def load_datas():\n",
    "    with open('datas.pickle', 'rb') as f:     \n",
    "        # The protocol version used is detected automatically, so we do not     \n",
    "        # have to specify it.     \n",
    "        datas = pickle.load(f)\n",
    "        return datas\n",
    "\n",
    "def quiz_states():\n",
    "    print(\"There's {} quizs, below a first 5 of them:\".format(\n",
    "            len(questions)\n",
    "        ))\n",
    "    for quiz in questions[:5]:\n",
    "        print(\"  \", quiz[:65], \"...\")"
   ]
  },
  {
   "cell_type": "markdown",
   "metadata": {},
   "source": [
    "## Tools for Practice "
   ]
  },
  {
   "cell_type": "code",
   "execution_count": 5,
   "metadata": {
    "collapsed": false
   },
   "outputs": [],
   "source": [
    "# flatten nested list recursively\n",
    "def flatten(l, a):\n",
    "    for i in l:\n",
    "        if isinstance(i, list):\n",
    "            flatten(i, a)\n",
    "        else:\n",
    "            a.append(i)\n",
    "    return a\n",
    "\n",
    "def split_special_char(word, spliter):\n",
    "    spliter_index = word.find(spliter)\n",
    "    if spliter_index == -1:\n",
    "        return word\n",
    "    else:\n",
    "        finished_part = word[:spliter_index] \n",
    "        outs = [finished_part, spliter]\n",
    "        working_part = word[spliter_index+1:]\n",
    "\n",
    "        outs.append(split_special_char(working_part, spliter))\n",
    "        return outs\n",
    "\n",
    "def split_out_points(answer):\n",
    "    # noraml split with space, new line and remove empty\n",
    "    pre_words = [line.split(\" \") for line in answer.split('\\n')]\n",
    "    pre_words = flatten(pre_words, [])\n",
    "    # special split (\n",
    "    pre_words = [split_special_char(word, '(') for word in pre_words]\n",
    "    pre_words = flatten(pre_words, [])\n",
    "    # special split )\n",
    "    pre_words = [split_special_char(word, ')') for word in pre_words]\n",
    "    pre_words = flatten(pre_words, [])\n",
    "    # special split [\n",
    "    pre_words = [split_special_char(word, '[') for word in pre_words]\n",
    "    pre_words = flatten(pre_words, [])\n",
    "    # special split ]\n",
    "    pre_words = [split_special_char(word, ']') for word in pre_words]\n",
    "    pre_words = flatten(pre_words, [])\n",
    "    # special split *\n",
    "    pre_words = [split_special_char(word, '*') for word in pre_words]\n",
    "    pre_words = flatten(pre_words, [])\n",
    "    # special split :\n",
    "    pre_words = [split_special_char(word, ':') for word in pre_words]\n",
    "    pre_words = flatten(pre_words, [])    \n",
    "    # remove '' in list\n",
    "    pre_words = [word for word in pre_words if word != '']\n",
    "\n",
    "    return pre_words "
   ]
  },
  {
   "cell_type": "code",
   "execution_count": 6,
   "metadata": {
    "collapsed": false
   },
   "outputs": [],
   "source": [
    "\n",
    "\n",
    "# Update quiz states \n",
    "# update_quiz_state\n",
    "# answer_index - int, index of answer of quiz\n",
    "# check_flag - boolean, right or wrong by user\n",
    "def update_quiz_state(answer_index, check_flag=False):\n",
    "\n",
    "    # initialize answer word\n",
    "    answer = answers[answer_index]\n",
    "    points = split_out_points(answer)\n",
    "    for point in points:\n",
    "        if point not in answer_points:\n",
    "            answer_points.add(point) \n",
    "\n",
    "    # Update right/wrong counter\n",
    "    for point in points:\n",
    "        if check_flag:\n",
    "            right_point_counter[point] += 1\n",
    "        else:\n",
    "            wrong_point_counter[point] += 1\n",
    "\n",
    "    # Update right wrong ratio\n",
    "    for point in points:\n",
    "        ratio = right_point_counter[point] / float(wrong_point_counter[point]+1)\n",
    "        right_wrong_ratio[point] = ratio    \n",
    "    \n",
    "    # Update question level\n",
    "    for i in range(len(answers)):\n",
    "        questin_level = calculate_question_level(answer)\n",
    "        question_levels[answer_index] = questin_level"
   ]
  },
  {
   "cell_type": "code",
   "execution_count": 7,
   "metadata": {
    "collapsed": false
   },
   "outputs": [],
   "source": [
    "# TODO: calculate question level based on right_wrong_ratio\n",
    "def calculate_question_level(answer):\n",
    "    points_in_answer = split_out_points(answer)\n",
    "    mean_mark = 0\n",
    "    # Use mean to prevent problem of less words answer appear often\n",
    "    points_marks = [right_wrong_ratio[point] for point in points_in_answer]\n",
    "    mean_mark = np.mean(points_marks)\n",
    "    return mean_mark\n",
    "\n",
    "def show_question_by(quiz_index):\n",
    "    print(questions[quiz_index])\n",
    "\n",
    "def check_word(flag):\n",
    "    if flag:\n",
    "        return 'Right (\\/)'\n",
    "    else:\n",
    "        return 'NOT right. (X)'"
   ]
  },
  {
   "cell_type": "code",
   "execution_count": 8,
   "metadata": {
    "collapsed": true
   },
   "outputs": [],
   "source": [
    "def check_user_answer(user_answer, quiz_index):\n",
    "    if type(user_answer) != 'str':\n",
    "        user_answer = str(user_answer)\n",
    "\n",
    "    # Check answer\n",
    "    print('Answer is:', answers[quiz_index])\n",
    "    is_right = user_answer == answers[quiz_index]\n",
    "    print('You are', \n",
    "            check_word(is_right)\n",
    "         )\n",
    "    return is_right"
   ]
  },
  {
   "cell_type": "markdown",
   "metadata": {},
   "source": [
    "## Load/reload datas from disk"
   ]
  },
  {
   "cell_type": "code",
   "execution_count": 48,
   "metadata": {
    "collapsed": false
   },
   "outputs": [
    {
     "name": "stdout",
     "output_type": "stream",
     "text": [
      "There's 48 quizs, below a first 5 of them:\n",
      "   Take the value(a) 1,000,000,000 and then add to it the value 10 t ...\n",
      "   How to use List Comphrehension to calculate square values\n",
      "    fro ...\n",
      "   How many bytes of memory does train_features need?\n",
      "    train_feat ...\n",
      "   How many bytes of memory does train_labels need? \n",
      "    train_label ...\n",
      "   How many bytes of memory does weights need? \n",
      "    weights Shape: ( ...\n"
     ]
    }
   ],
   "source": [
    "# Load questions and answers from pickle\n",
    "\n",
    "questions = []\n",
    "answers = []\n",
    "assert(len(questions) == 0)\n",
    "\n",
    "datas = load_datas()\n",
    "questions = datas['questions']\n",
    "answers = datas['answers']\n",
    "\n",
    "if len(right_point_counter) == 0:\n",
    "    right_point_counter = datas['right_counter']\n",
    "    wrong_point_counter = datas['wrong_counter']\n",
    "    right_wrong_ratio = datas['right_wrong_ratio']\n",
    "            \n",
    "for index in range(len(answers)):\n",
    "    question_levels[index] = calculate_question_level(answers[index])\n",
    "\n",
    "assert(len(questions) != 0) # some loaded questions\n",
    "quiz_states()\n",
    "\n",
    "# Why after load_quiz, questions list become empty When I put it into a function?\n",
    "## Why after assign questions, questions become empty?\n"
   ]
  },
  {
   "cell_type": "markdown",
   "metadata": {},
   "source": [
    "## Do Quiz"
   ]
  },
  {
   "cell_type": "code",
   "execution_count": 183,
   "metadata": {
    "collapsed": false,
    "scrolled": true
   },
   "outputs": [
    {
     "name": "stdout",
     "output_type": "stream",
     "text": [
      "2\n",
      "[[[  7.           1.93617647]\n",
      "  [ 39.           1.77266789]\n",
      "  [ 44.           1.58902025]\n",
      "  [ 33.           1.38861938]\n",
      "  [ 42.           1.23604697]\n",
      "  [ 41.           1.06355549]\n",
      "  [ 47.           0.99728392]\n",
      "  [ 34.           0.91559674]]]\n",
      "39\n",
      "Index:  39\n",
      "This makes a list where each element is on step in the sequence\n",
      "    with num_steps and x_one_hot\n",
      "    rnn_inputs = ?\n",
      "    \n"
     ]
    }
   ],
   "source": [
    "# Show question\n",
    "\n",
    "shift_number = 6\n",
    "max_number = 6\n",
    "rand_index = np.random.randint(0, max_number, size=1)[0]\n",
    "print(rand_index)\n",
    "training_quizzes = list(reversed(question_levels.most_common()))\n",
    "\n",
    "shifted_quizzes = training_quizzes[shift_number:]\n",
    "# When do quiz, try starting from easy one should be a lowest learning curve\n",
    "top_20_percent_quizzes = shifted_quizzes[:int(len(shifted_quizzes)*0.2)]\n",
    "low_learning_curve_quizzes = list(reversed(top_20_percent_quizzes))\n",
    "\n",
    "def stack_quiz(quizzes):\n",
    "    splitted = np.split(np.array(quizzes), 1)\n",
    "    stacked = np.stack(splitted)\n",
    "    return stacked\n",
    "\n",
    "shift_out = stack_quiz(training_quizzes[:shift_number])\n",
    "train_in = stack_quiz(shifted_quizzes[:max_number])\n",
    "# print(shift_out)\n",
    "# print(train_in)\n",
    "print(stack_quiz(low_learning_curve_quizzes))\n",
    "\n",
    "quiz_index = low_learning_curve_quizzes[1][0]\n",
    "print(quiz_index)\n",
    "print('Index: ', quiz_index)\n",
    "show_question_by(quiz_index)\n",
    "# answers[quiz_index]\n",
    "# split_out_points(answers[16])"
   ]
  },
  {
   "cell_type": "code",
   "execution_count": 180,
   "metadata": {
    "collapsed": false,
    "scrolled": true
   },
   "outputs": [
    {
     "name": "stdout",
     "output_type": "stream",
     "text": [
      "Answer is: tf.concat([t1, t2], 1)\n",
      "You are Right (\\/)\n"
     ]
    }
   ],
   "source": [
    "# User Answer field\n",
    "\n",
    "user_answer = \"rnn_inputs = []\"\n",
    "\n",
    "is_right = check_user_answer(user_answer, quiz_index)"
   ]
  },
  {
   "cell_type": "code",
   "execution_count": 181,
   "metadata": {
    "collapsed": false,
    "scrolled": false
   },
   "outputs": [],
   "source": [
    "# Update status\n",
    "if is_right:\n",
    "    update_quiz_state(quiz_index, True)\n",
    "else:\n",
    "    update_quiz_state(quiz_index)"
   ]
  },
  {
   "cell_type": "code",
   "execution_count": 128,
   "metadata": {
    "collapsed": true
   },
   "outputs": [],
   "source": [
    "# Pause for back to new quiz"
   ]
  },
  {
   "cell_type": "code",
   "execution_count": 184,
   "metadata": {
    "collapsed": false,
    "scrolled": true
   },
   "outputs": [
    {
     "data": {
      "image/png": "[encoded data removed]",
      "text/plain": [
       "<matplotlib.figure.Figure at 0x10c423e10>"
      ]
     },
     "metadata": {},
     "output_type": "display_data"
    }
   ],
   "source": [
    "import matplotlib.pyplot as plt\n",
    "\n",
    "# normaliz datas\n",
    "x = list(question_levels)\n",
    "y = [question_levels[_x] for _x in x]\n",
    "\n",
    "max_question_mark = np.max(y)\n",
    "y = [y_/max_question_mark for y_ in y]\n",
    "\n",
    "# Draw a metric\n",
    "plt.title('Question handle')\n",
    "plt.xlabel('question id')\n",
    "plt.ylabel('handle mark')\n",
    "plt.axis([0, len(x), 0, np.max(y)])\n",
    "plt.grid(True)\n",
    "\n",
    "plt.plot(x, y)\n",
    "plt.show()\n",
    "\n"
   ]
  },
  {
   "cell_type": "code",
   "execution_count": 29,
   "metadata": {
    "collapsed": false
   },
   "outputs": [
    {
     "data": {
      "image/png": "[encoded data removed]",
      "text/plain": [
       "<matplotlib.figure.Figure at 0x10bd8b198>"
      ]
     },
     "metadata": {},
     "output_type": "display_data"
    }
   ],
   "source": [
    "plt.title('Most Common Question Handle')\n",
    "plt.xlabel('Sorted Questions')\n",
    "plt.ylabel('Handle Mark')\n",
    "y = list(reversed(sorted(y)))\n",
    "\n",
    "# nromaliz x\n",
    "max_x = np.max(x)\n",
    "x = [_x / max_x for _x in x ]\n",
    "\n",
    "plt.plot(x, y)\n",
    "plt.plot(x, [np.mean(y) for i in range(len(y))])\n",
    "plt.show()"
   ]
  },
  {
   "cell_type": "markdown",
   "metadata": {},
   "source": [
    "# Thoughs\n",
    "- Why it's keeping give me already handled question to test?\n",
    "- points will be adjust towards to the right value while user keep doing quiz\n",
    "- Keep user out of comfortable zone\n",
    "- Keep adding new quiz\n",
    "- Process of learning: add quizzes > do quiz > add quizzes\n",
    "- Need a way to track how many new quiz a day handle\n",
    "- Need check out speed of your quiz adding for project deadline\n",
    "- Need build a github project for this tools"
   ]
  },
  {
   "cell_type": "code",
   "execution_count": 102,
   "metadata": {
    "collapsed": true
   },
   "outputs": [],
   "source": [
    "# TODO: \n",
    "# - add save right_point_counter, right_wrong_ratio in save_datas\n",
    "# [d] draw working flow about practice training\n",
    "# [d] finishing refine practice\n",
    "# [d] Reload quiz\n",
    "# - Remember each time wrong answers\n",
    "# - try get user answer interactivly\n",
    "# [d] random get lowest questions\n",
    "# - why idx 7 always zero in question level? can not find 80 in answer points\n",
    "# - move '(word)' out of inline question.\n",
    "# - Don't set default ratio when initial"
   ]
  },
  {
   "cell_type": "code",
   "execution_count": null,
   "metadata": {
    "collapsed": true
   },
   "outputs": [],
   "source": [
    "# Things\n",
    "# - Some short answers will get low sums of points, that will bring you old easy question many times."
   ]
  },
  {
   "cell_type": "code",
   "execution_count": 74,
   "metadata": {
    "collapsed": true
   },
   "outputs": [],
   "source": [
    "save_datas()"
   ]
  },
  {
   "cell_type": "code",
   "execution_count": null,
   "metadata": {
    "collapsed": true
   },
   "outputs": [],
   "source": []
  }
 ],
 "metadata": {
  "kernelspec": {
   "display_name": "Python 3",
   "language": "python",
   "name": "python3"
  },
  "language_info": {
   "codemirror_mode": {
    "name": "ipython",
    "version": 3
   },
   "file_extension": ".py",
   "mimetype": "text/x-python",
   "name": "python",
   "nbconvert_exporter": "python",
   "pygments_lexer": "ipython3",
   "version": "3.5.3"
  }
 },
 "nbformat": 4,
 "nbformat_minor": 1
}
